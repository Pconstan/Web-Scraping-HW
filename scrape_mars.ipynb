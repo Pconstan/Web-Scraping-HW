{
 "cells": [
  {
   "cell_type": "code",
   "execution_count": 9,
   "metadata": {},
   "outputs": [],
   "source": [
    "from bs4 import BeautifulSoup\n",
    "import requests\n",
    "import os\n",
    "from splinter import Browser\n",
    "import pandas as pd\n",
    "import pymongo\n",
    "from flask import Flask, render_template"
   ]
  },
  {
   "cell_type": "code",
   "execution_count": 17,
   "metadata": {},
   "outputs": [],
   "source": [
    "def init():\n",
    "    executable_path = {'executable_path': 'C:\\Program Files\\Common Files\\Chromedriver\\chromedriver.exe'}\n",
    "    return Browser('chrome', **executable_path, headless=False)\n",
    "    "
   ]
  },
  {
   "cell_type": "code",
   "execution_count": 20,
   "metadata": {},
   "outputs": [],
   "source": [
    "def scrape():\n",
    "    browser = init()\n",
    "    url_0 = 'https://mars.nasa.gov/news/?page=0&per_page=40&order=publish_date+desc%2Ccreated_at+desc&search=&category=19%2C165%2C184%2C204&blank_scope=Latest'\n",
    "    browser.visit(url_0)\n",
    "    \n",
    "    for x in range(10):\n",
    "        # HTML object\n",
    "        html = browser.html\n",
    "        # Parse HTML\n",
    "        soup = BeautifulSoup(html, 'html.parser')\n",
    "        # Retrieve all elements that contain book information\n",
    "        headlines = soup.find_all('div', class_='content_title')\n",
    "        pgraph = soup.find_all('div', class_='article_teaser_body')\n",
    "        \n",
    "    ddd = headlines[0].find('a')\n",
    "    news_title = ddd.contents[0]\n",
    "\n",
    "    ppp = pgraph[0]\n",
    "    news_p = ppp.contents[0]\n",
    "    \n",
    "    #JPL Mars Space Scrape\n",
    "    url_1 = 'https://www.jpl.nasa.gov/spaceimages/?search=&category=Mars'\n",
    "    browser.visit(url_1)\n",
    "    html = browser.html\n",
    "    soup = BeautifulSoup(html, 'html.parser')\n",
    "    imgs = soup.find('article')\n",
    "    \n",
    "    gg = imgs.find('a')\n",
    "    url_2 = gg['data-fancybox-href']\n",
    "    featured_image_url = \"https://www.jpl.nasa.gov\" + url_2\n",
    "    \n",
    "        #Mars Weather Twitter Scrape\n",
    "    url_3 = 'https://twitter.com/marswxreport?lang=en'\n",
    "    browser.visit(url_3)\n",
    "    html = browser.html\n",
    "    # Parse HTML\n",
    "    soup = BeautifulSoup(html, 'html.parser')\n",
    "    \n",
    "    m_weather = soup.find(\"div\", class_=\"js-tweet-text-container\")\n",
    "    ss = m_weather.find('p')\n",
    "    mars_weather = ss.contents[0]\n",
    "\n",
    "    #Mars Facts Scrape\n",
    "    url_4 = 'https://space-facts.com/mars/'\n",
    "    browser.visit(url_4)\n",
    "    \n",
    "    tables = pd.read_html(url_4)\n",
    "    \n",
    "    df = tables[0]\n",
    "    mars_facts = df.to_html()\n",
    "\n",
    "    #Mars Hemispheres Scrape\n",
    "\n",
    "    url1='https://astrogeology.usgs.gov/search/map/Mars/Viking/cerberus_enhanced'\n",
    "    url2='https://astrogeology.usgs.gov/search/map/Mars/Viking/schiaparelli_enhanced'\n",
    "    url3='https://astrogeology.usgs.gov/search/map/Mars/Viking/syrtis_major_enhanced'\n",
    "    url4='https://astrogeology.usgs.gov/search/map/Mars/Viking/valles_marineris_enhanced'\n",
    "\n",
    "    browser.visit(url1)\n",
    "    html = browser.html\n",
    "    # Parse HTML\n",
    "    soup = BeautifulSoup(html, 'html.parser')\n",
    "    img1 = soup.find('img', class_='wide-image')\n",
    "    h1 = 'https://astrogeology.usgs.gov' + img1['src']\n",
    "\n",
    "    browser.visit(url2)\n",
    "    html = browser.html\n",
    "    # Parse HTML\n",
    "    soup = BeautifulSoup(html, 'html.parser')\n",
    "    img2 = soup.find('img', class_='wide-image')\n",
    "    h2 = 'https://astrogeology.usgs.gov' + img2['src']\n",
    "\n",
    "    browser.visit(url3)\n",
    "    html = browser.html\n",
    "    # Parse HTML\n",
    "    soup = BeautifulSoup(html, 'html.parser')\n",
    "    img3 = soup.find('img', class_='wide-image')\n",
    "    h3 = 'https://astrogeology.usgs.gov' + img3['src']\n",
    "\n",
    "    browser.visit(url4)\n",
    "    html = browser.html\n",
    "    # Parse HTML\n",
    "    soup = BeautifulSoup(html, 'html.parser')\n",
    "    img4 = soup.find('img', class_='wide-image')\n",
    "    h4 = 'https://astrogeology.usgs.gov' + img4['src']\n",
    "\n",
    "    hemisphere_image_urls =  [{\"title\": \"Valles Marineris Hemisphere\", \"img_url\": h1},\n",
    "        {\"title\": \"Cerberus Hemisphere\", \"img_url\": h2},\n",
    "        {\"title\": \"Schiaparelli Hemisphere\", \"img_url\": h3},\n",
    "        {\"title\": \"Syrtis Major Hemisphere\", \"img_url\": h4},\n",
    "    ]\n",
    "\n",
    "\n",
    "    mars_dict = {\"news_title\": news_title, \"news_p\": news_p, \"featured_image_url\": featured_image_url,\n",
    "                  \"mars_weather\": mars_weather, \"mars_facts\":mars_facts, \"hemisphere_image_urls\": hemisphere_image_urls}\n",
    "    \n",
    "    return(mars_dict)"
   ]
  },
  {
   "cell_type": "code",
   "execution_count": 21,
   "metadata": {},
   "outputs": [
    {
     "data": {
      "text/plain": [
       "{'news_title': \"Mars InSight Lander's 'Mole' Pauses Digging\",\n",
       " 'news_p': \"After the mission's heat probe began hammering last week, it appears to have hit a rock. The team is analyzing data before they hammer again.\",\n",
       " 'featured_image_url': 'https://www.jpl.nasa.gov/spaceimages/images/mediumsize/PIA07137_ip.jpg',\n",
       " 'mars_weather': 'InSight sol 99 (2019-03-07) low -95.8ºC (-140.4ºF) high -13.3ºC (8.1ºF)\\nwinds from the SW at 4.2 m/s (9.5 mph) gusting to 12.0 m/s (26.8 mph)\\npressure at 7.20 hPa',\n",
       " 'mars_facts': '<table border=\"1\" class=\"dataframe\">\\n  <thead>\\n    <tr style=\"text-align: right;\">\\n      <th></th>\\n      <th>0</th>\\n      <th>1</th>\\n    </tr>\\n  </thead>\\n  <tbody>\\n    <tr>\\n      <th>0</th>\\n      <td>Equatorial Diameter:</td>\\n      <td>6,792 km</td>\\n    </tr>\\n    <tr>\\n      <th>1</th>\\n      <td>Polar Diameter:</td>\\n      <td>6,752 km</td>\\n    </tr>\\n    <tr>\\n      <th>2</th>\\n      <td>Mass:</td>\\n      <td>6.42 x 10^23 kg (10.7% Earth)</td>\\n    </tr>\\n    <tr>\\n      <th>3</th>\\n      <td>Moons:</td>\\n      <td>2 (Phobos &amp; Deimos)</td>\\n    </tr>\\n    <tr>\\n      <th>4</th>\\n      <td>Orbit Distance:</td>\\n      <td>227,943,824 km (1.52 AU)</td>\\n    </tr>\\n    <tr>\\n      <th>5</th>\\n      <td>Orbit Period:</td>\\n      <td>687 days (1.9 years)</td>\\n    </tr>\\n    <tr>\\n      <th>6</th>\\n      <td>Surface Temperature:</td>\\n      <td>-153 to 20 °C</td>\\n    </tr>\\n    <tr>\\n      <th>7</th>\\n      <td>First Record:</td>\\n      <td>2nd millennium BC</td>\\n    </tr>\\n    <tr>\\n      <th>8</th>\\n      <td>Recorded By:</td>\\n      <td>Egyptian astronomers</td>\\n    </tr>\\n  </tbody>\\n</table>',\n",
       " 'hemisphere_image_urls': [{'title': 'Valles Marineris Hemisphere',\n",
       "   'img_url': 'https://astrogeology.usgs.gov/cache/images/cfa62af2557222a02478f1fcd781d445_cerberus_enhanced.tif_full.jpg'},\n",
       "  {'title': 'Cerberus Hemisphere',\n",
       "   'img_url': 'https://astrogeology.usgs.gov/cache/images/3cdd1cbf5e0813bba925c9030d13b62e_schiaparelli_enhanced.tif_full.jpg'},\n",
       "  {'title': 'Schiaparelli Hemisphere',\n",
       "   'img_url': 'https://astrogeology.usgs.gov/cache/images/ae209b4e408bb6c3e67b6af38168cf28_syrtis_major_enhanced.tif_full.jpg'},\n",
       "  {'title': 'Syrtis Major Hemisphere',\n",
       "   'img_url': 'https://astrogeology.usgs.gov/cache/images/7cf2da4bf549ed01c17f206327be4db7_valles_marineris_enhanced.tif_full.jpg'}]}"
      ]
     },
     "execution_count": 21,
     "metadata": {},
     "output_type": "execute_result"
    }
   ],
   "source": [
    "scrape()"
   ]
  },
  {
   "cell_type": "code",
   "execution_count": null,
   "metadata": {},
   "outputs": [],
   "source": []
  }
 ],
 "metadata": {
  "kernelspec": {
   "display_name": "Python 3",
   "language": "python",
   "name": "python3"
  },
  "language_info": {
   "codemirror_mode": {
    "name": "ipython",
    "version": 3
   },
   "file_extension": ".py",
   "mimetype": "text/x-python",
   "name": "python",
   "nbconvert_exporter": "python",
   "pygments_lexer": "ipython3",
   "version": "3.7.0"
  }
 },
 "nbformat": 4,
 "nbformat_minor": 2
}
